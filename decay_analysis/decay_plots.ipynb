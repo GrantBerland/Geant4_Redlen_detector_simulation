{
 "cells": [
  {
   "cell_type": "code",
   "execution_count": 1,
   "metadata": {},
   "outputs": [],
   "source": [
    "%matplotlib inline\n",
    "\n",
    "import numpy as np\n",
    "import pandas as pd\n",
    "import matplotlib.pyplot as plt\n"
   ]
  },
  {
   "cell_type": "code",
   "execution_count": 79,
   "metadata": {},
   "outputs": [
    {
     "name": "stdout",
     "output_type": "stream",
     "text": [
      "CMakeCache.txt\t     Makefile\t\t  rdecay02_h1_H15.csv\r\n",
      "CMakeFiles\t     plotHisto.C\t  rdecay02_h1_H16.csv\r\n",
      "cmake_install.cmake  rdecay02_h1_H10.csv  rdecay02.mac\r\n",
      "debug.mac\t     rdecay02_h1_H11.csv  rdecay02_nt_RDecayProducts.csv\r\n",
      "G4History.macro      rdecay02_h1_H12.csv  rdecay02_nt_RDecayProducts_t0.csv\r\n",
      "init_vis.mac\t     rdecay02_h1_H13.csv  rdecay02_nt_RDecayProducts_t1.csv\r\n",
      "main\t\t     rdecay02_h1_H14.csv  vis.mac\r\n"
     ]
    }
   ],
   "source": [
    "!ls ../build"
   ]
  },
  {
   "cell_type": "code",
   "execution_count": 81,
   "metadata": {},
   "outputs": [
    {
     "name": "stdout",
     "output_type": "stream",
     "text": [
      "#class tools::histo::h1d\r\n",
      "#title Anti-coincidence spectrum (MeV) in the detector\r\n",
      "#dimension 1\r\n",
      "#axis fixed 100 0 100\r\n",
      "#annotation axis_x.title \r\n",
      "#bin_number 102\r\n",
      "entries,Sw,Sw2,Sxw0,Sx2w0\r\n",
      "0,0,0,0,0\r\n",
      "6554,6554,6554,3749.38,2587.36\r\n",
      "3420,3420,3420,4428.02,5882.09\r\n",
      "0,0,0,0,0\r\n",
      "0,0,0,0,0\r\n",
      "0,0,0,0,0\r\n",
      "0,0,0,0,0\r\n",
      "0,0,0,0,0\r\n",
      "0,0,0,0,0\r\n",
      "0,0,0,0,0\r\n",
      "0,0,0,0,0\r\n",
      "0,0,0,0,0\r\n",
      "0,0,0,0,0\r\n",
      "0,0,0,0,0\r\n",
      "0,0,0,0,0\r\n",
      "0,0,0,0,0\r\n",
      "0,0,0,0,0\r\n",
      "0,0,0,0,0\r\n",
      "0,0,0,0,0\r\n",
      "0,0,0,0,0\r\n",
      "0,0,0,0,0\r\n",
      "0,0,0,0,0\r\n",
      "0,0,0,0,0\r\n",
      "0,0,0,0,0\r\n",
      "0,0,0,0,0\r\n",
      "0,0,0,0,0\r\n",
      "0,0,0,0,0\r\n",
      "0,0,0,0,0\r\n",
      "0,0,0,0,0\r\n",
      "0,0,0,0,0\r\n",
      "0,0,0,0,0\r\n",
      "0,0,0,0,0\r\n",
      "0,0,0,0,0\r\n",
      "0,0,0,0,0\r\n",
      "0,0,0,0,0\r\n",
      "0,0,0,0,0\r\n",
      "0,0,0,0,0\r\n",
      "0,0,0,0,0\r\n",
      "0,0,0,0,0\r\n",
      "0,0,0,0,0\r\n",
      "0,0,0,0,0\r\n",
      "0,0,0,0,0\r\n",
      "0,0,0,0,0\r\n",
      "0,0,0,0,0\r\n",
      "0,0,0,0,0\r\n",
      "0,0,0,0,0\r\n",
      "0,0,0,0,0\r\n",
      "0,0,0,0,0\r\n",
      "0,0,0,0,0\r\n",
      "0,0,0,0,0\r\n",
      "0,0,0,0,0\r\n",
      "0,0,0,0,0\r\n",
      "0,0,0,0,0\r\n",
      "0,0,0,0,0\r\n",
      "0,0,0,0,0\r\n",
      "0,0,0,0,0\r\n",
      "0,0,0,0,0\r\n",
      "0,0,0,0,0\r\n",
      "0,0,0,0,0\r\n",
      "0,0,0,0,0\r\n",
      "0,0,0,0,0\r\n",
      "0,0,0,0,0\r\n",
      "0,0,0,0,0\r\n",
      "0,0,0,0,0\r\n",
      "0,0,0,0,0\r\n",
      "0,0,0,0,0\r\n",
      "0,0,0,0,0\r\n",
      "0,0,0,0,0\r\n",
      "0,0,0,0,0\r\n",
      "0,0,0,0,0\r\n",
      "0,0,0,0,0\r\n",
      "0,0,0,0,0\r\n",
      "0,0,0,0,0\r\n",
      "0,0,0,0,0\r\n",
      "0,0,0,0,0\r\n",
      "0,0,0,0,0\r\n",
      "0,0,0,0,0\r\n",
      "0,0,0,0,0\r\n",
      "0,0,0,0,0\r\n",
      "0,0,0,0,0\r\n",
      "0,0,0,0,0\r\n",
      "0,0,0,0,0\r\n",
      "0,0,0,0,0\r\n",
      "0,0,0,0,0\r\n",
      "0,0,0,0,0\r\n",
      "0,0,0,0,0\r\n",
      "0,0,0,0,0\r\n",
      "0,0,0,0,0\r\n",
      "0,0,0,0,0\r\n",
      "0,0,0,0,0\r\n",
      "0,0,0,0,0\r\n",
      "0,0,0,0,0\r\n",
      "0,0,0,0,0\r\n",
      "0,0,0,0,0\r\n",
      "0,0,0,0,0\r\n",
      "0,0,0,0,0\r\n",
      "0,0,0,0,0\r\n",
      "0,0,0,0,0\r\n",
      "0,0,0,0,0\r\n",
      "0,0,0,0,0\r\n",
      "0,0,0,0,0\r\n",
      "0,0,0,0,0\r\n"
     ]
    }
   ],
   "source": [
    "\n",
    "!cat \"../build/rdecay02_h1_H15.csv\""
   ]
  },
  {
   "cell_type": "code",
   "execution_count": 68,
   "metadata": {},
   "outputs": [
    {
     "name": "stdout",
     "output_type": "stream",
     "text": [
      "<class 'pandas.core.frame.DataFrame'>\n",
      "RangeIndex: 152 entries, 0 to 151\n",
      "Data columns (total 5 columns):\n",
      "entries    152 non-null int64\n",
      "Sw         152 non-null int64\n",
      "Sw2        152 non-null int64\n",
      "Sxw0       152 non-null float64\n",
      "Sx2w0      152 non-null float64\n",
      "dtypes: float64(2), int64(3)\n",
      "memory usage: 6.0 KB\n",
      "<class 'pandas.core.frame.DataFrame'>\n",
      "RangeIndex: 61136 entries, 0 to 61135\n",
      "Data columns (total 6 columns):\n",
      "PID       61136 non-null int64\n",
      "Z         61136 non-null int64\n",
      "A         61136 non-null int64\n",
      "Energy    61136 non-null float64\n",
      "Time      61136 non-null float64\n",
      "Weight    61136 non-null int64\n",
      "dtypes: float64(2), int64(4)\n",
      "memory usage: 2.8 MB\n"
     ]
    }
   ],
   "source": [
    "\n",
    "\n",
    "decay_histo = pd.read_csv(\"../build/rdecay02_h1_H16.csv\", header=6);\n",
    "decay_histo_0 = pd.read_csv(\"../build/rdecay02_nt_RDecayProducts_t0.csv\", \n",
    "                            skiprows=10, \n",
    "                            names=['PID','Z','A','Energy','Time','Weight'],\n",
    "                            dtype={'PID':np.int},\n",
    "                            sep=',');\n",
    "\n",
    "decay_histo.info()\n",
    "decay_histo_0.info()"
   ]
  },
  {
   "cell_type": "code",
   "execution_count": 78,
   "metadata": {},
   "outputs": [
    {
     "data": {
      "image/png": "[encoded data removed]",
      "text/plain": [
       "<Figure size 432x288 with 1 Axes>"
      ]
     },
     "metadata": {
      "needs_background": "light"
     },
     "output_type": "display_data"
    }
   ],
   "source": [
    "\n",
    "fig = plt.figure();\n",
    "plt.semilogy(decay_histo[\"Sw\"]);\n",
    "plt.xlabel(\"Energy (MeV)\");\n",
    "plt.ylabel(\"Counts\");\n"
   ]
  },
  {
   "cell_type": "code",
   "execution_count": 75,
   "metadata": {},
   "outputs": [
    {
     "data": {
      "image/png": "[encoded data removed]",
      "text/plain": [
       "<Figure size 432x288 with 1 Axes>"
      ]
     },
     "metadata": {
      "needs_background": "light"
     },
     "output_type": "display_data"
    }
   ],
   "source": [
    "\n",
    "plt.figure();\n",
    "plt.hist(decay_histo_0['Energy'], bins=50);\n",
    "plt.xlabel('Energy (MeV)');\n",
    "plt.ylabel('Counts');\n"
   ]
  }
 ],
 "metadata": {
  "kernelspec": {
   "display_name": "Python 3",
   "language": "python",
   "name": "python3"
  },
  "language_info": {
   "codemirror_mode": {
    "name": "ipython",
    "version": 3
   },
   "file_extension": ".py",
   "mimetype": "text/x-python",
   "name": "python",
   "nbconvert_exporter": "python",
   "pygments_lexer": "ipython3",
   "version": "3.5.2"
  }
 },
 "nbformat": 4,
 "nbformat_minor": 2
}
